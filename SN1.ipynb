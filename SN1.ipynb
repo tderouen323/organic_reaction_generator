{
 "cells": [
  {
   "cell_type": "code",
   "execution_count": 95,
   "metadata": {},
   "outputs": [],
   "source": [
    "import rdkit"
   ]
  },
  {
   "cell_type": "code",
   "execution_count": 96,
   "metadata": {},
   "outputs": [],
   "source": [
    "from rdkit import Chem\n",
    "from rdkit.Chem import Draw\n",
    "from rdkit.Chem.Draw import IPythonConsole #Needed to show molecules\n",
    "from rdkit.Chem.Draw.MolDrawing import MolDrawing, DrawingOptions #Only needed if modifying defaults\n",
    "\n",
    "from rdkit.Chem.Draw import MolsToGridImage\n",
    "from rdkit.Chem import MolFromSmiles\n",
    "from rdkit.Chem import rdPartialCharges\n",
    "\n",
    "from rdkit import rdBase, Chem\n",
    "from rdkit.Chem import AllChem, Draw, rdmolops\n",
    "from rdkit.Chem.Draw import IPythonConsole\n",
    "\n",
    "from rdkit.Chem import rdchem\n",
    "from rdkit.Chem.rdchem import EditableMol\n",
    "from rdkit.Chem.rdchem import Atom\n",
    "from rdkit.Chem import rdqueries\n",
    "\n",
    "import urllib.request as ur"
   ]
  },
  {
   "cell_type": "code",
   "execution_count": 97,
   "metadata": {},
   "outputs": [],
   "source": [
    "#CODE FOR SUBSTITUTION SN1"
   ]
  },
  {
   "cell_type": "code",
   "execution_count": 98,
   "metadata": {},
   "outputs": [],
   "source": [
    "listOfLG = {'Hydrogen Sulfate':'O[S]([O-])(=O)=O', 'Bromine':'Br', 'Chloride':'Cl', 'Iodide':'I', \n",
    "            'Sulfonic Acid':'O[S]([O-])=O', 'Ammonia':'N', 'Water':'O'}\n",
    "listOfNucs = {'Sodium Hydroxide':'[OH-].[Na+]', 'Sodium Methoxide':'C[O-].[Na+]', 'Methyllithium':'[Li]C', \n",
    "              'Potassium Hydroxide':'[OH-].[K+]', 'Sodium Cyanide':'[Na+].[C-]#N', 'Potassium Cyanide':'[K+].[C-]#N', \n",
    "              'Sodium Acetylide':'C#[C-].[Na+]', 'Sodium Amide':'[NH2-].[Na+]',\n",
    "             'Sodium Iodide':'[Na+].[I-]', 'Lithium Bromide':'[Li+].[Br-]', 'Potassium Iodide':'[K+].[I-]', \n",
    "              'Sodium Azide':'[Na+].[N-]=[N+]=[N-]'}\n",
    "weakNuc = {'Water':'O', 'Hydrogen Sulfide':'S', 'Methonal':'CO', 'Methanethiol':'CS', 'Ethanethiol':'CCS', 'Ethanol':'CCO'}\n"
   ]
  },
  {
   "cell_type": "code",
   "execution_count": 99,
   "metadata": {},
   "outputs": [],
   "source": [
    "#find reactant with nucleophile and determine nucleophile \n",
    "def findNuc(reac1, reac2):\n",
    "    nuc = ''\n",
    "    for key, value in weakNuc.items():\n",
    "        if reac1 == value or reac2 == value:\n",
    "            nuc = value\n",
    "            break\n",
    "    if nuc == '':\n",
    "        print('Neither of the reactants entered are nucleophiles')\n",
    "    return nuc\n"
   ]
  },
  {
   "cell_type": "code",
   "execution_count": 100,
   "metadata": {},
   "outputs": [],
   "source": [
    "#find reactant with leaving group and determine leaving group\n",
    "def findLG(reac1, reac2):\n",
    "    lg = ''\n",
    "    leaving_group = ''\n",
    "    reac = findNuc(reac1, reac2)\n",
    "    if reac == reac1:\n",
    "        lg = reac2\n",
    "    else: \n",
    "        lg = reac1\n",
    "    #print(lg)\n",
    "    for key, value in listOfLG.items():\n",
    "        if value == 'O':\n",
    "            leaving_group = value\n",
    "        elif value in lg:\n",
    "            leaving_group = value\n",
    "            break\n",
    "    if leaving_group == '':\n",
    "        print('Neither of the reactants entered are leaving groups')\n",
    "    return leaving_group"
   ]
  },
  {
   "cell_type": "code",
   "execution_count": 101,
   "metadata": {},
   "outputs": [],
   "source": [
    "#find reactant with nucleophile\n",
    "def findReactant(reac1, reac2):\n",
    "    attack = ''\n",
    "    reac = findNuc(reac1, reac2)\n",
    "    if reac == reac1:\n",
    "        reactant = reac2\n",
    "    else: \n",
    "        reactant = reac1\n",
    "    return reactant"
   ]
  },
  {
   "cell_type": "code",
   "execution_count": 102,
   "metadata": {},
   "outputs": [],
   "source": [
    "#create negatively charged nucleophile\n",
    "import re\n",
    "def stripNew(reac):\n",
    "    reac = re.sub(\"H\",\"\",reac)\n",
    "    neg = findNeg(reac)\n",
    "\n",
    "    neg = neg[0]\n",
    "    \n",
    "    neg = re.sub(\"-\",\"\",neg)\n",
    "    neg = re.sub(\"\\[\",\"\",neg)\n",
    "    neg = re.sub(\"\\]\",\"\",neg)\n",
    "    \n",
    "    return neg"
   ]
  },
  {
   "cell_type": "code",
   "execution_count": 103,
   "metadata": {},
   "outputs": [],
   "source": [
    "#nucleophilic substitution SN1 first and last step reaction \n",
    "def subs1(reac1, reac2):\n",
    "    nucleophile = findNuc(reac1, reac2)\n",
    "    leaving_g = findLG(reac1, reac2)\n",
    "    r = findReactant(reac1, reac2)\n",
    "    takeOff= 'C' + leaving_g\n",
    "    putOn = 'C' + stripNew(nucleophile)\n",
    "    cation = removeLG(r, leaving_g)\n",
    "    mod_mol = rdmolops.ReplaceSubstructs(Chem.MolFromSmiles(r), Chem.MolFromSmiles(takeOff), Chem.MolFromSmiles(putOn))\n",
    "    mod_mol_ = mod_mol[0]\n",
    "   \n",
    "    \n",
    "    mod_mol_str = Chem.rdmolfiles.MolToSmiles(mod_mol_)\n",
    "    \n",
    "    cationMol=Chem.MolFromSmiles(cation)\n",
    "    \n",
    "    reaction = (\"%s.%s>>%s.%s\" % (reac1, reac2, leaving_g, mod_mol_str))\n",
    "    print(reaction)\n",
    "    AllChem.ReactionFromSmarts(reaction)\n",
    "    print('Your intermediate cation is: %s' % cation)\n",
    "    display(cationMol)\n",
    "    \n",
    "    return(AllChem.ReactionFromSmarts(reaction, useSmiles=True))"
   ]
  },
  {
   "cell_type": "code",
   "execution_count": 104,
   "metadata": {},
   "outputs": [],
   "source": [
    "#form carbocation from leaving group leaving substrate\n",
    "def step1(reac1, reac2):\n",
    "    nucleophile = findNuc(reac1, reac2)\n",
    "    leaving_g = findLG(reac1, reac2)\n",
    "    r = findReactant(reac1, reac2)\n",
    "    print(\"reactant is %s\" % r)\n",
    "    cation = removeLG(r, leaving_g)\n",
    "    return cation"
   ]
  },
  {
   "cell_type": "code",
   "execution_count": 105,
   "metadata": {},
   "outputs": [],
   "source": [
    "#remove leaving group from reactant with leaving group\n",
    "def removeLG(mol, lg):\n",
    "    if lg in mol:\n",
    "        mola1 = mol.replace(lg, \"\")\n",
    "        return mola1"
   ]
  },
  {
   "cell_type": "code",
   "execution_count": 106,
   "metadata": {},
   "outputs": [],
   "source": [
    "#add nucleophile and carbocation\n",
    "def addNuc(mol, nuc):\n",
    "    newMol = rdmolops.CombineMols(Chem.MolFromSmiles(mol), Chem.MolFromSmiles(nuc))\n",
    "    return newMol"
   ]
  },
  {
   "cell_type": "code",
   "execution_count": 107,
   "metadata": {},
   "outputs": [
    {
     "data": {
      "image/png": "[encoded data removed]",
      "text/plain": [
       "<rdkit.Chem.rdchem.Mol at 0x10bad53f0>"
      ]
     },
     "execution_count": 107,
     "metadata": {},
     "output_type": "execute_result"
    }
   ],
   "source": [
    "#first reactant\n",
    "mola = 'CC(C)O[S]([O-])(=O)=O'\n",
    "Chem.MolFromSmiles(mola)"
   ]
  },
  {
   "cell_type": "code",
   "execution_count": 108,
   "metadata": {},
   "outputs": [
    {
     "data": {
      "image/png": "[encoded data removed]",
      "text/plain": [
       "<rdkit.Chem.rdchem.Mol at 0x10b9fe2b8>"
      ]
     },
     "execution_count": 108,
     "metadata": {},
     "output_type": "execute_result"
    }
   ],
   "source": [
    "#second reactant\n",
    "molb = 'O'\n",
    "Chem.MolFromSmiles(molb)"
   ]
  },
  {
   "cell_type": "code",
   "execution_count": 109,
   "metadata": {},
   "outputs": [
    {
     "data": {
      "image/png": "[encoded data removed]",
      "text/plain": [
       "<rdkit.Chem.rdchem.Mol at 0x10b9fea70>"
      ]
     },
     "execution_count": 109,
     "metadata": {},
     "output_type": "execute_result"
    }
   ],
   "source": [
    "#first reactant without leaving group --CARBOCATION IS FAILURE DISCUSSED IN PAPER\n",
    "molc = removeLG(mola, findLG(mola, molb))\n",
    "Chem.MolFromSmiles(molc)"
   ]
  },
  {
   "cell_type": "code",
   "execution_count": 110,
   "metadata": {},
   "outputs": [
    {
     "data": {
      "image/png": "[encoded data removed]",
      "text/plain": [
       "<rdkit.Chem.rdchem.Mol at 0x10b9fe660>"
      ]
     },
     "execution_count": 110,
     "metadata": {},
     "output_type": "execute_result"
    }
   ],
   "source": [
    "#add nucleophile to carbocation- THIS IS ONE OF THE FAILURES DISCUSSED IN PAPER\n",
    "addNuc(molc, molb)"
   ]
  },
  {
   "cell_type": "code",
   "execution_count": 111,
   "metadata": {},
   "outputs": [
    {
     "data": {
      "text/plain": [
       "'O'"
      ]
     },
     "execution_count": 111,
     "metadata": {},
     "output_type": "execute_result"
    }
   ],
   "source": [
    "#find the nucleophile in the reactants\n",
    "mol = findNuc(mola, molb)\n",
    "mol"
   ]
  },
  {
   "cell_type": "code",
   "execution_count": 112,
   "metadata": {},
   "outputs": [
    {
     "data": {
      "image/png": "[encoded data removed]",
      "text/plain": [
       "<rdkit.Chem.rdchem.Mol at 0x10b9fec10>"
      ]
     },
     "execution_count": 112,
     "metadata": {},
     "output_type": "execute_result"
    }
   ],
   "source": [
    "#find the leaving group in the reactants\n",
    "x=findLG(mola, molb)\n",
    "x1=Chem.MolFromSmiles(x)\n",
    "x1"
   ]
  },
  {
   "cell_type": "code",
   "execution_count": 113,
   "metadata": {},
   "outputs": [
    {
     "name": "stdout",
     "output_type": "stream",
     "text": [
      "CC(C)O[S]([O-])(=O)=O.O>>O[S]([O-])(=O)=O.CC(C)O\n",
      "Your intermediate cation is: CC(C)\n"
     ]
    },
    {
     "data": {
      "image/png": "[encoded data removed]",
      "text/plain": [
       "<rdkit.Chem.rdchem.Mol at 0x10b9fe458>"
      ]
     },
     "metadata": {},
     "output_type": "display_data"
    },
    {
     "data": {
      "image/png": "[encoded data removed]",
      "text/plain": [
       "<rdkit.Chem.rdChemReactions.ChemicalReaction at 0x10b9feb40>"
      ]
     },
     "execution_count": 113,
     "metadata": {},
     "output_type": "execute_result"
    }
   ],
   "source": [
    "#full reaction with 2 reactants and 2 products, carbocation is also shown\n",
    "subs1(mola, molb)"
   ]
  },
  {
   "cell_type": "code",
   "execution_count": 114,
   "metadata": {},
   "outputs": [
    {
     "name": "stdout",
     "output_type": "stream",
     "text": [
      "reactant is CC(C)O[S]([O-])(=O)=O\n"
     ]
    },
    {
     "data": {
      "text/plain": [
       "'CC(C)'"
      ]
     },
     "execution_count": 114,
     "metadata": {},
     "output_type": "execute_result"
    }
   ],
   "source": [
    "#first step of reaction (form carbocation that is shown in subs(mola, molb))\n",
    "mol5 = step1(mola, molb)\n",
    "mol5"
   ]
  }
 ],
 "metadata": {
  "kernelspec": {
   "display_name": "Python 3",
   "language": "python",
   "name": "python3"
  },
  "language_info": {
   "codemirror_mode": {
    "name": "ipython",
    "version": 3
   },
   "file_extension": ".py",
   "mimetype": "text/x-python",
   "name": "python",
   "nbconvert_exporter": "python",
   "pygments_lexer": "ipython3",
   "version": "3.4.5"
  }
 },
 "nbformat": 4,
 "nbformat_minor": 2
}
