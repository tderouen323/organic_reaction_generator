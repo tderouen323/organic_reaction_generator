{
 "cells": [
  {
   "cell_type": "code",
   "execution_count": 65,
   "metadata": {
    "collapsed": true
   },
   "outputs": [],
   "source": [
    "#imports from rdkit and iPython\n",
    "import rdkit\n",
    "from rdkit import Chem\n",
    "from rdkit.Chem import AllChem\n",
    "from rdkit.Chem.Draw.MolDrawing import MolDrawing, DrawingOptions\n",
    "from rdkit import rdBase, Chem\n",
    "from rdkit.Chem import Draw\n",
    "from rdkit.Chem.Draw import rdMolDraw2D \n",
    "from rdkit.Chem.Draw import MolDraw2D\n",
    "from rdkit.Chem.Draw import IPythonConsole\n",
    "from rdkit.Chem import AtomPairs\n",
    "from rdkit.Chem.AtomPairs import Torsions\n",
    "from rdkit.Chem import rdchem\n",
    "from rdkit.Chem import rdqueries\n",
    "from rdkit.Chem.rdchem import EditableMol\n",
    "from rdkit.Chem.rdchem import Atom\n",
    "from rdkit.Chem import rdmolops\n",
    "from rdkit.Chem import MolFromSmiles\n",
    "from rdkit.Chem.Draw import MolsToGridImage\n",
    "from IPython.display import display #python notebook display"
   ]
  },
  {
   "cell_type": "code",
   "execution_count": 66,
   "metadata": {},
   "outputs": [
    {
     "data": {
      "image/png": "[encoded data removed]",
      "text/plain": [
       "<rdkit.Chem.rdchem.Mol at 0x117641940>"
      ]
     },
     "execution_count": 66,
     "metadata": {},
     "output_type": "execute_result"
    }
   ],
   "source": [
    "#Shows an example of a SMILES string being displayed as a molecule\n",
    "smilesMol = Chem.MolFromSmiles('CCCBr')\n",
    "smilesMol"
   ]
  },
  {
   "cell_type": "code",
   "execution_count": 67,
   "metadata": {},
   "outputs": [
    {
     "data": {
      "image/png": "[encoded data removed]",
      "text/plain": [
       "<rdkit.Chem.rdChemReactions.ChemicalReaction at 0x1176411c0>"
      ]
     },
     "execution_count": 67,
     "metadata": {},
     "output_type": "execute_result"
    }
   ],
   "source": [
    "#Shows how SMARTS reaction works\n",
    "rxn = AllChem.ReactionFromSmarts('[Fe].O=O>>O=[Fe]O[Fe]=O',useSmiles=True)\n",
    "rxn"
   ]
  },
  {
   "cell_type": "code",
   "execution_count": 68,
   "metadata": {
    "collapsed": true
   },
   "outputs": [],
   "source": [
    "#SN2 Algorithm"
   ]
  },
  {
   "cell_type": "code",
   "execution_count": 69,
   "metadata": {
    "collapsed": true
   },
   "outputs": [],
   "source": [
    "# Dictionaries of Nucleophiles and Leaving Groups with common name of molecule with its SMILES string\n",
    "listOfNucs = {'Sodium Hydroxide':'[OH-].[Na+]', 'Sodium Methoxide':'C[O-].[Na+]', 'Methyllithium':'[Li]C', \n",
    "              'Potassium Hydroxide':'[OH-].[K+]', 'Sodium Cyanide':'[Na+].[C-]#N', 'Potassium Cyanide':'[K+].[C-]#N', \n",
    "              'Sodium Acetylide':'C#[C-].[Na+]', 'Sodium Amide':'[NH2-].[Na+]',\n",
    "             'Sodium Iodide':'[Na+].[I-]', 'Lithium Bromide':'[Li+].[Br-]', 'Potassium Iodide':'[K+].[I-]', \n",
    "              'Sodium Azide':'[Na+].[N-]=[N+]=[N-]', 'Sodium Ethoxide':'[Na+].CC[O-]'}\n",
    "listOfLG = {'Bromine':'Br', 'Chloride':'Cl', 'Iodide':'I', 'Water':'O','Sulfonic Acid':'O[S]([O-])=O', \n",
    "            'Hydrogen Sulfate':'O[S]([O-])(=O)=O', 'Ammonia':'N'} "
   ]
  },
  {
   "cell_type": "code",
   "execution_count": 70,
   "metadata": {},
   "outputs": [],
   "source": [
    "#Function that find the reactant that is a nucleophile\n",
    "def findNuc(reac1, reac2):\n",
    "    nuc = ''\n",
    "    for key, value in listOfNucs.items():\n",
    "        if reac1 == value or reac2 == value:\n",
    "            nuc = value\n",
    "            \n",
    "            break\n",
    "    \n",
    "    if nuc == '':\n",
    "        print('Neither of the reactants entered are nucleophiles')\n",
    "    \n",
    "    return nuc\n",
    "\n",
    "#Function that finds the leaving group in the reactants specified\n",
    "def findLG(reac1, reac2):\n",
    "    lg = ''\n",
    "    leaving_group = ''\n",
    "    reac = findNuc(reac1, reac2)\n",
    "    if reac == reac1:\n",
    "        lg = reac2\n",
    "    else: \n",
    "        lg = reac1\n",
    "        \n",
    "    for key, value in listOfLG.items():\n",
    "        if value in lg:\n",
    "            leaving_group = value\n",
    "            \n",
    "            break\n",
    "    if leaving_group == '':\n",
    "        print('Neither of the reactants entered are leaving groups')\n",
    "    \n",
    "    return leaving_group\n",
    "\n",
    "#Finds the reactant with the substrate\n",
    "def findReactant(reac1, reac2):\n",
    "    attack = ''\n",
    "    reac = findNuc(reac1, reac2)\n",
    "    if reac == reac1:\n",
    "        attack = reac2\n",
    "    else: \n",
    "        attack = reac1\n",
    "\n",
    "    print(\"Your substrate is: \", attack)\n",
    "    attack1 = Chem.MolFromSmiles(attack)\n",
    "    \n",
    "    return attack1\n",
    "\n",
    "#Function that finds a negatively charged molecule\n",
    "def findNeg(reac):\n",
    "    m = Chem.MolFromSmiles(reac)\n",
    "    qa = rdqueries.FormalChargeGreaterQueryAtom(0)\n",
    "    keep = [x for x in Chem.GetMolFrags(m,asMols=True) if not len(x.GetAtomsMatchingQuery(qa))]\n",
    "    x = [Chem.MolToSmiles(x) for x in keep]\n",
    "    return x\n",
    "\n",
    "#Function that adds the proper format to the string for it to be a SMILES molecule\n",
    "import re\n",
    "def stripNew(reac):\n",
    "    reac = re.sub(\"H\",\"\",reac)\n",
    "    neg = findNeg(reac)\n",
    "\n",
    "    neg = neg[0]\n",
    "    \n",
    "    neg = re.sub(\"-\",\"\",neg)\n",
    "    neg = re.sub(\"\\[\",\"\",neg)\n",
    "    neg = re.sub(\"\\]\",\"\",neg)\n",
    "    \n",
    "    return neg\n",
    "#Function that makes a leaving group more readable \n",
    "def makeIon(lg):\n",
    "    reac = re.sub(\"H\",\"\",lg)\n",
    "    \n",
    "    reac = ('[' + reac +'-]')\n",
    "    return reac"
   ]
  },
  {
   "cell_type": "code",
   "execution_count": 71,
   "metadata": {},
   "outputs": [],
   "source": [
    "#Main function that performs the subsitution reaction\n",
    "def subs(reac1, reac2):\n",
    "    nucleophile = findNuc(reac1, reac2)\n",
    "    print(\"The strong nucleophile is: \", nucleophile) #finds the nucleophile from the two reactants given\n",
    "    display(Chem.MolFromSmiles(nucleophile))\n",
    "    leaving_g = findLG(reac1, reac2) #finds the reactant with the leaving group\n",
    "    ion = makeIon(leaving_g) #makes the leaving group in a more readable format\n",
    "    print(\"The leaving group is: \", ion)\n",
    "    display(Chem.MolFromSmiles(ion))\n",
    "    \n",
    "    \n",
    "    if nucleophile == '[Na+].CC[O-]': #An exception to the nucleophiles. Sodium ethoxide needs to be formatted differently because of the position of oxygen\n",
    "        r = findReactant(reac1, reac2) #finds the reactant \n",
    "        display(r)\n",
    "        r1 = re.sub(leaving_g, 'OCC', Chem.rdmolfiles.MolToSmiles(r), count=0, flags=0) #reformats the structure so the oxygen is in the righ position to be displayed\n",
    "        \n",
    "        mod_mol_str = r1\n",
    "    else: #for any other nucleophile entered\n",
    "        r = findReactant(reac1, reac2) \n",
    "        display(r)\n",
    "        takeOff= 'C' + leaving_g #adds the carbon to the front of the leaving group to make the product\n",
    "        putOn = 'C' + stripNew(nucleophile) #formats the second reactant to form the new product\n",
    "        mod_mol = rdmolops.ReplaceSubstructs(r, \n",
    "                                     Chem.MolFromSmiles(takeOff), \n",
    "                                     Chem.MolFromSmiles(putOn)) #restructures the reactant to format the new product from the two adjustments above\n",
    "        mod_mol_ = mod_mol[0]\n",
    "\n",
    "\n",
    "        mod_mol_str = Chem.rdmolfiles.MolToSmiles(mod_mol_) # makes string of SMILES molecule\n",
    "\n",
    "      \n",
    "    reaction = (\"%s.%s>>[%s-].%s\" % (reac1, reac2, leaving_g, mod_mol_str))\n",
    "    print(\"The reaction in SMILES format: \", reaction)\n",
    "    AllChem.ReactionFromSmarts(reaction)\n",
    "    print(\"The nucleophile '\"+ nucleophile +\"' will perform a back side attack on the substrate '\"\n",
    "          + Chem.rdmolfiles.MolToSmiles(r) + \"' and the leaving group '\"+ ion + \"' will detach from the substrate.\")\n",
    "    \n",
    "    return(AllChem.ReactionFromSmarts(reaction, useSmiles=True))"
   ]
  },
  {
   "cell_type": "code",
   "execution_count": 72,
   "metadata": {},
   "outputs": [
    {
     "name": "stdout",
     "output_type": "stream",
     "text": [
      "The strong nucleophile is:  [Na+].[I-]\n"
     ]
    },
    {
     "data": {
      "image/png": "[encoded data removed]",
      "text/plain": [
       "<rdkit.Chem.rdchem.Mol at 0x1176568a0>"
      ]
     },
     "metadata": {},
     "output_type": "display_data"
    },
    {
     "name": "stdout",
     "output_type": "stream",
     "text": [
      "The leaving group is:  [Br-]\n"
     ]
    },
    {
     "data": {
      "image/png": "[encoded data removed]",
      "text/plain": [
       "<rdkit.Chem.rdchem.Mol at 0x1176568a0>"
      ]
     },
     "metadata": {},
     "output_type": "display_data"
    },
    {
     "name": "stdout",
     "output_type": "stream",
     "text": [
      "Your substrate is:  CCCBr\n"
     ]
    },
    {
     "data": {
      "image/png": "[encoded data removed]",
      "text/plain": [
       "<rdkit.Chem.rdchem.Mol at 0x117656710>"
      ]
     },
     "metadata": {},
     "output_type": "display_data"
    },
    {
     "name": "stdout",
     "output_type": "stream",
     "text": [
      "The reaction in SMILES format:  CCCBr.[Na+].[I-]>>[Br-].CCCI\n",
      "The nucleophile '[Na+].[I-]' will perform a back side attack on the substrate 'CCCBr' and the leaving group '[Br-]' will detach from the substrate.\n"
     ]
    },
    {
     "data": {
      "image/png": "[encoded data removed]",
      "text/plain": [
       "<rdkit.Chem.rdChemReactions.ChemicalReaction at 0x1176565d0>"
      ]
     },
     "execution_count": 72,
     "metadata": {},
     "output_type": "execute_result"
    }
   ],
   "source": [
    "#Function called to display the result of the SN2 algorithm with two reactants (bromopropane and sodium iodide)\n",
    "\n",
    "sn2Mol1 = 'CCCBr'\n",
    "sn2Mol2 = '[Na+].[I-]'\n",
    "\n",
    "subs(sn2Mol1, sn2Mol2)"
   ]
  },
  {
   "cell_type": "code",
   "execution_count": 57,
   "metadata": {
    "collapsed": true
   },
   "outputs": [],
   "source": [
    "#Below are different options you can choose from to input the reactants. The first option is to input the two reactant\n",
    "#common name, and through restful services connected to a online chemical identifier, the function will conver the \n",
    "#common name to the SMILES string\n",
    "\n",
    "#The second option is to use a PubChem plugin to draw the substrate with a leaving group in the list given.\n",
    "#The plugin will produce a smiles string in which the user can copy and paste it into the textbox for the substrate\n",
    "#with a leaving group. The second reactant (the nucleophile) can be chosen from a dropdown menu"
   ]
  },
  {
   "cell_type": "code",
   "execution_count": 111,
   "metadata": {},
   "outputs": [
    {
     "name": "stdout",
     "output_type": "stream",
     "text": [
      "Enter a molecule name: sodium hydroxide\n",
      "Enter a molecule name: bromopropane\n",
      "[OH-].[Na+]\n",
      "CCCBr\n"
     ]
    }
   ],
   "source": [
    "#Option that allows you to enter the common name of the reactant (i.e. Sodium Hydroxide and Bromopropane)\n",
    "inp = input(\"Enter a molecule name: \")\n",
    "inp2 = input(\"Enter a molecule name: \")\n",
    "\n",
    "if (' ' in inp):\n",
    "    split = inp.split()\n",
    "    part1 = split[0]\n",
    "    part2 = split[1]\n",
    "    s = ur.urlopen((\"https://cactus.nci.nih.gov/chemical/structure/%s%%20%s/smiles\") % (part1, part2))\n",
    "    s1 = s.read()\n",
    "    s1 = s1.decode('utf-8')\n",
    "    print(s1)\n",
    "if (' ' in inp2):\n",
    "    split2 = inp2.split()\n",
    "    part1 = split2[0]\n",
    "    part2 = split2[1]\n",
    "    s2 = ur.urlopen((\"https://cactus.nci.nih.gov/chemical/structure/%s%%20%s/smiles\") % (part1, part2))\n",
    "    s3 = s2.read()\n",
    "    s3 = s3.decode('utf-8')\n",
    "    print(s3)\n",
    "    \n",
    "if (' ' not in inp):\n",
    "    s = ur.urlopen((\"https://cactus.nci.nih.gov/chemical/structure/%s/smiles\") % inp)\n",
    "    s1 = s.read()\n",
    "    s1 = s1.decode('utf-8')\n",
    "    print(x1)\n",
    "if (' ' not in inp2):\n",
    "    s2 = ur.urlopen((\"https://cactus.nci.nih.gov/chemical/structure/%s/smiles\") % inp2)\n",
    "    s3 = s2.read()\n",
    "    s3 = s3.decode('utf-8')\n",
    "    print(s3)"
   ]
  },
  {
   "cell_type": "code",
   "execution_count": 110,
   "metadata": {},
   "outputs": [
    {
     "name": "stdout",
     "output_type": "stream",
     "text": [
      "The strong nucleophile is:  [OH-].[Na+]\n"
     ]
    },
    {
     "data": {
      "image/png": "[encoded data removed]",
      "text/plain": [
       "<rdkit.Chem.rdchem.Mol at 0x117638530>"
      ]
     },
     "metadata": {},
     "output_type": "display_data"
    },
    {
     "name": "stdout",
     "output_type": "stream",
     "text": [
      "The leaving group is:  [Br-]\n"
     ]
    },
    {
     "data": {
      "image/png": "[encoded data removed]",
      "text/plain": [
       "<rdkit.Chem.rdchem.Mol at 0x117638d00>"
      ]
     },
     "metadata": {},
     "output_type": "display_data"
    },
    {
     "name": "stdout",
     "output_type": "stream",
     "text": [
      "Your substrate is:  CCCBr\n"
     ]
    },
    {
     "data": {
      "image/png": "[encoded data removed]",
      "text/plain": [
       "<rdkit.Chem.rdchem.Mol at 0x117638d00>"
      ]
     },
     "metadata": {},
     "output_type": "display_data"
    },
    {
     "name": "stdout",
     "output_type": "stream",
     "text": [
      "The reaction in SMILES format:  [OH-].[Na+].CCCBr>>[Br-].CCCO\n",
      "The nucleophile '[OH-].[Na+]' will perform a back side attack on the substrate 'CCCBr' and the leaving group '[Br-]' will detach from the substrate.\n"
     ]
    },
    {
     "data": {
      "image/png": "[encoded data removed]",
      "text/plain": [
       "<rdkit.Chem.rdChemReactions.ChemicalReaction at 0x117638350>"
      ]
     },
     "execution_count": 110,
     "metadata": {},
     "output_type": "execute_result"
    }
   ],
   "source": [
    "subs(s1, s3) #use this call if you are inputing the reactants by common name"
   ]
  },
  {
   "cell_type": "code",
   "execution_count": 24,
   "metadata": {
    "collapsed": true
   },
   "outputs": [],
   "source": [
    "import ipywidgets as widgets"
   ]
  },
  {
   "cell_type": "code",
   "execution_count": 29,
   "metadata": {},
   "outputs": [
    {
     "name": "stdout",
     "output_type": "stream",
     "text": [
      "Please choose from the dropdown menu of nucleophiles: \n",
      "['[OH-].[Na+]', 'C[O-].[Na+]', '[Li]C', '[OH-].[K+]', '[Na+].[C-]#N', '[K+].[C-]#N', 'C#[C-].[Na+]', '[NH2-].[Na+]', '[Li+].[Br-]', '[K+].[I-]', '[Na+].[N-]=[N+]=[N-]', '[Na+].CC[O-]', '[Na+].[I-]']\n"
     ]
    },
    {
     "data": {
      "application/vnd.jupyter.widget-view+json": {
       "model_id": "db5285556c044fc0811f4f04f8afc518"
      }
     },
     "metadata": {},
     "output_type": "display_data"
    }
   ],
   "source": [
    "#Dropdown option to enter the nucleophilic reactant\n",
    "print('Please choose from the dropdown menu of nucleophiles: ')\n",
    "options=['[OH-].[Na+]','C[O-].[Na+]', '[Li]C','[OH-].[K+]','[Na+].[C-]#N','[K+].[C-]#N',\n",
    "             'C#[C-].[Na+]','[NH2-].[Na+]','[Li+].[Br-]','[K+].[I-]', \n",
    "             '[Na+].[N-]=[N+]=[N-]', '[Na+].CC[O-]', '[Na+].[I-]']\n",
    "print(options)\n",
    "nucleophile = widgets.Dropdown(options=options, value='[Na+].[I-]', description = \"Nucleophile\")\n",
    "n = nucleophile.value\n",
    "nucleophile"
   ]
  },
  {
   "cell_type": "code",
   "execution_count": 26,
   "metadata": {},
   "outputs": [
    {
     "name": "stdout",
     "output_type": "stream",
     "text": [
      "If you choose to draw your reactants, please copy & paste the SMILES string (located in the top text box) for each reactant\n"
     ]
    },
    {
     "data": {
      "text/html": [
       "<iframe class=\"pubchem-widget\" src=\"https://pubchem.ncbi.nlm.nih.gov/edit2/index.html\" style=\"width: 100%; height: 500px;\"></iframe>"
      ],
      "text/plain": [
       "<IPython.core.display.HTML object>"
      ]
     },
     "metadata": {},
     "output_type": "display_data"
    }
   ],
   "source": [
    "#PubChem plug-in\n",
    "print(\"If you choose to draw your reactants, please copy & paste the SMILES string (located in the top text box) for each reactant\")\n",
    "from IPython.core.display import display, HTML\n",
    "display(HTML(\"\"\"<iframe class=\"pubchem-widget\" src=\"https://pubchem.ncbi.nlm.nih.gov/edit2/index.html\" style=\"width: 100%; height: 500px;\"></iframe>\"\"\"))"
   ]
  },
  {
   "cell_type": "code",
   "execution_count": 30,
   "metadata": {},
   "outputs": [
    {
     "name": "stdout",
     "output_type": "stream",
     "text": [
      "Please enter the substrate as a SMILES string, as indicated in PubChem. \n",
      "Do not enter any aromatic rings. \n",
      "Be sure to have part of the leaving group come from the list below:\n",
      "      'Br', 'Cl', 'I', 'O', 'O[S]([O-])=O', 'O[S]([O-])(=O)=O','N' \n"
     ]
    },
    {
     "data": {
      "application/vnd.jupyter.widget-view+json": {
       "model_id": "87714ebc51ba43b1afd5b32009118feb"
      }
     },
     "metadata": {},
     "output_type": "display_data"
    }
   ],
   "source": [
    "#Textbox option to enter the reactant with the leaving group from the plug-in\n",
    "print('''Please enter the substrate as a SMILES string, as indicated in PubChem. \n",
    "Do not enter any aromatic rings. \n",
    "Be sure to have part of the substrate as a leaving group come from the list below:\n",
    "      'Br', 'Cl', 'I', 'O', 'O[S]([O-])=O', 'O[S]([O-])(=O)=O','N' ''')\n",
    "leavingGroup = widgets.Text(\n",
    "    value='CCCBr',\n",
    "    placeholder='Type something',\n",
    "    description='Reactant with Leaving Group:',\n",
    "    disabled=False\n",
    ")\n",
    "l = leavingGroup.value\n",
    "leavingGroup"
   ]
  },
  {
   "cell_type": "code",
   "execution_count": 31,
   "metadata": {},
   "outputs": [
    {
     "name": "stdout",
     "output_type": "stream",
     "text": [
      "The strong nucleophile is:  [Na+].[I-]\n"
     ]
    },
    {
     "data": {
      "image/png": "[encoded data removed]",
      "text/plain": [
       "<rdkit.Chem.rdchem.Mol at 0x1175e2850>"
      ]
     },
     "metadata": {},
     "output_type": "display_data"
    },
    {
     "name": "stdout",
     "output_type": "stream",
     "text": [
      "The leaving group is:  [Br-]\n"
     ]
    },
    {
     "data": {
      "image/png": "[encoded data removed]",
      "text/plain": [
       "<rdkit.Chem.rdchem.Mol at 0x1175e2850>"
      ]
     },
     "metadata": {},
     "output_type": "display_data"
    },
    {
     "name": "stdout",
     "output_type": "stream",
     "text": [
      "Your substrate is:  CCCBr\n"
     ]
    },
    {
     "data": {
      "image/png": "[encoded data removed]",
      "text/plain": [
       "<rdkit.Chem.rdchem.Mol at 0x1175e2850>"
      ]
     },
     "metadata": {},
     "output_type": "display_data"
    },
    {
     "name": "stdout",
     "output_type": "stream",
     "text": [
      "The reaction in SMILES format:  [Na+].[I-].CCCBr>>[Br-].CCCI\n",
      "The nucleophile '[Na+].[I-]' will perform a back side attack on the substrate 'CCCBr' and the leaving group '[Br-]' will detach from the substrate.\n"
     ]
    },
    {
     "data": {
      "image/png": "[encoded data removed]",
      "text/plain": [
       "<rdkit.Chem.rdChemReactions.ChemicalReaction at 0x1175e2da0>"
      ]
     },
     "execution_count": 31,
     "metadata": {},
     "output_type": "execute_result"
    }
   ],
   "source": [
    "subs(n, l) #use this call if inputting the reactants from pubchem plug in and dropdown option"
   ]
  }
 ],
 "metadata": {
  "kernelspec": {
   "display_name": "ipy-jupyter-venv3",
   "language": "python",
   "name": "myipy_jupter_env3"
  },
  "language_info": {
   "codemirror_mode": {
    "name": "ipython",
    "version": 3
   },
   "file_extension": ".py",
   "mimetype": "text/x-python",
   "name": "python",
   "nbconvert_exporter": "python",
   "pygments_lexer": "ipython3",
   "version": "3.6.1"
  }
 },
 "nbformat": 4,
 "nbformat_minor": 2
}
